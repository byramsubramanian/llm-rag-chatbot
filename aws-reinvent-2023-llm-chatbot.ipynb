{
 "cells": [
  {
   "cell_type": "code",
   "execution_count": 1,
   "metadata": {},
   "outputs": [
    {
     "data": {
      "text/plain": [
       "107219"
      ]
     },
     "execution_count": 1,
     "metadata": {},
     "output_type": "execute_result"
    }
   ],
   "source": [
    "import requests\n",
    "\n",
    "url = \"https://aws.amazon.com/blogs/aws/top-announcements-of-aws-reinvent-2023/\"\n",
    "page = requests.get(url)\n",
    "\n",
    "len(page.text)"
   ]
  },
  {
   "cell_type": "code",
   "execution_count": 4,
   "metadata": {},
   "outputs": [
    {
     "name": "stdout",
     "output_type": "stream",
     "text": [
      "Introducing Amazon Q Generative SQL in Amazon Redshift (Preview)\n",
      "Introducing new AI-driven scaling and optimizations in Amazon Redshift Serverless (Preview)\n",
      "Announcing Amazon Aurora PostgreSQL zero-ETL integration with Amazon Redshift (Preview)\n",
      "Announcing Amazon RDS for MySQL zero-ETL integration with Amazon Redshift (Preview)\n",
      "Announcing Amazon DynamoDB zero-ETL integration with Amazon Redshift (Preview)\n",
      "Introducing highly durable Amazon OpenSearch Service clusters with 30% price/performance improvement\n",
      "AWS Clean Rooms Differential Privacy enhances privacy protection of your users’ data (preview)\n",
      "AWS Clean Rooms ML helps customers and partners apply ML models without sharing raw data (preview)\n",
      "Announcing Amazon OpenSearch Service zero-ETL integration with Amazon S3 (preview)\n",
      "New generative AI capabilities for Amazon DataZone further simplify data cataloging and discovery (preview)\n",
      "Analyze large amounts of graph data to get insights and find trends with Amazon Neptune Analytics\n",
      "New Amazon Q in QuickSight uses generative AI assistance for quicker, easier data insights (preview)\n",
      "Use anomaly detection with AWS Glue to improve data quality (preview)\n",
      "Amazon CloudWatch Logs now offers automated pattern analytics and anomaly detection\n",
      "AWS Step Functions Workflow Studio is now available in AWS Application Composer\n",
      "Announcing throughput increase and dead letter queue redrive support for Amazon SQS FIFO queues\n",
      "Manage EDI at scale with new AWS B2B Data Interchange\n",
      "Easily deploy SaaS products with new Quick Launch in AWS Marketplace\n",
      "Check your AWS Free Tier usage programmatically with a new API\n",
      "New Cost Optimization Hub centralizes recommended actions to save you money\n",
      "Join the preview for new memory-optimized, AWS Graviton4-powered Amazon EC2 instances (R8g)\n",
      "Introducing Amazon EC2 high memory U7i Instances for large in-memory databases (preview)\n",
      "Amazon Managed Service for Prometheus collector provides agentless metric collection for Amazon EKS\n",
      "Amazon EKS Pod Identity simplifies IAM permissions for applications on Amazon EKS clusters\n",
      "Increase collaboration and securely share cloud knowledge with AWS re:Post Private\n",
      "Amazon Redshift adds new AI capabilities, including Amazon Q, to boost efficiency and productivity\n",
      "Vector search for Amazon DocumentDB (with MongoDB compatibility) is now generally available\n",
      "Amazon DynamoDB zero-ETL integration with Amazon OpenSearch Service is now available\n",
      "Amazon ElastiCache Serverless for Redis and Memcached is now available\n",
      "Join the preview of Amazon Aurora Limitless Database\n",
      "Getting started with new Amazon RDS for Db2\n",
      "Use AWS Fault Injection Service to demonstrate multi-region and multi-AZ application resilience\n",
      "IDE extension for AWS Application Composer enhances visual modern applications development with AI-generated IaC\n",
      "Upgrade your Java applications with Amazon Q Code Transformation (preview)\n",
      "Improve developer productivity with generative-AI powered Amazon Q in Amazon CodeCatalyst (preview)\n",
      "New Amazon WorkSpaces Thin Client provides cost-effective, secure access to virtual desktops\n",
      "Announcing cross-region data replication for Amazon WorkSpaces\n",
      "Amazon SageMaker Studio adds web-based interface, Code Editor, flexible workspaces, and streamlines user onboarding\n",
      "Package and deploy models faster with new tools and guided workflows in Amazon SageMaker\n",
      "Use natural language to explore and prepare data with a new capability of Amazon SageMaker Canvas\n",
      "Amazon SageMaker adds new inference capabilities to help reduce foundation model deployment costs and latency\n",
      "Leverage foundation models for business analysis at scale with Amazon SageMaker Canvas\n",
      "Amazon SageMaker Clarify makes it easier to evaluate and select foundation models (preview)\n",
      "Evaluate, compare, and select the best foundation models for your use case in Amazon Bedrock (preview)\n",
      "Introducing Amazon SageMaker HyperPod, a purpose-built infrastructure for distributed training at scale\n",
      "Amazon Titan Image Generator, Multimodal Embeddings, and Text models are now available in Amazon Bedrock\n",
      "Amazon Bedrock now provides access to Anthropic’s latest model, Claude 2.1\n",
      "Introducing Amazon Q, a new generative AI-powered assistant (preview)\n",
      "Amazon Q brings generative AI-powered assistance to IT pros and developers (preview)\n",
      "Guardrails for Amazon Bedrock helps implement safeguards customized to your use cases and responsible AI policies (preview)\n",
      "Agents for Amazon Bedrock is now available with improved control of orchestration and visibility into reasoning\n",
      "Customize models in Amazon Bedrock with your own data using fine-tuning and continued pre-training\n",
      "Knowledge Bases now delivers fully managed RAG experience in Amazon Bedrock\n",
      "Amazon Transcribe Call Analytics adds new generative AI-powered call summaries (preview)\n",
      "Build generative AI apps using AWS Step Functions and Amazon Bedrock\n",
      "Amazon CodeWhisperer offers new AI-powered code remediation, IaC support, and integration with Visual Studio\n",
      "Amazon CloudWatch Application Signals for automatic instrumentation of your applications (preview)\n",
      "New myApplications in the AWS Management Console simplifies managing your application resources\n",
      "Use Amazon CloudWatch to consolidate hybrid, multicloud, and on-premises metrics\n",
      "Use natural language to query Amazon CloudWatch logs and metrics (preview)\n",
      "New Amazon CloudWatch log class for infrequent access logs at a reduced price\n",
      "Zonal autoshift automatically shifts your traffic away from Availability Zones when we detect potential issues\n",
      "Mutual authentication for Application Load Balancer reliably verifies certificate-based client identities\n",
      "External endpoints and testing of task states now available in AWS Step Functions\n",
      "Announcing new diagnostic tools for AWS Partner-Led Support (PLS) participants\n",
      "Three new capabilities for Amazon Inspector broaden the realm of vulnerability scanning for workloads\n",
      "AWS Control Tower adds 65 new controls\n",
      "Amazon Detective adds new capabilities to accelerate and improve your cloud security investigations\n",
      "Detect runtime security threats in Amazon ECS and AWS Fargate, new in Amazon GuardDuty\n",
      "Vector engine for Amazon OpenSearch Serverless is now available\n",
      "AWS Lambda functions now scale 12 times faster when handling high-volume requests\n",
      "Announcing the new Amazon S3 Express One Zone high performance storage class\n",
      "Amazon EBS Snapshots Archive is now available with AWS Backup\n",
      "Replication failback and increased IOPS are new for Amazon EFS\n",
      "Automatic restore testing and validation now available in AWS Backup\n",
      "Optimize your storage costs for rarely-accessed files with Amazon EFS Archive\n",
      "Announcing on-demand data replication for Amazon FSx for OpenZFS\n",
      "Introducing shared VPC support for Amazon FSx for NetApp ONTAP\n",
      "New – Scale-out file systems for Amazon FSx for NetApp ONTAP\n",
      "FlexGroup Volume Management for Amazon FSx for NetApp ONTAP is now available\n",
      "Reserve quantum computers, get guidance and cutting-edge capabilities with Amazon Braket Direct\n",
      "No of announcements: 81\n"
     ]
    }
   ],
   "source": [
    "from bs4 import BeautifulSoup\n",
    "\n",
    "soup = BeautifulSoup(page.text, \"html.parser\")\n",
    "\n",
    "announcements = []\n",
    "results = soup.find_all(\"p\")\n",
    "for result in results:  # iterate through each announcement\n",
    "    a = result.find(\"a\", href=True)\n",
    "    if a and a['href'].startswith(\"https://aws.amazon.com\"):\n",
    "        announcement_title = a.get_text(strip=True)\n",
    "        print(announcement_title)\n",
    "        announcement_summary = result.get_text(separator=\"#@#\", strip=True).split(\"#@#\")[1]\n",
    "        announcement_link = a['href']\n",
    "        \n",
    "        announcements.append({\n",
    "            \"title\": announcement_title,\n",
    "            \"summary\": announcement_summary,\n",
    "            \"link\": announcement_link\n",
    "        })\n",
    "\n",
    "print(f\"No of announcements: {len(announcements)}\")"
   ]
  },
  {
   "cell_type": "code",
   "execution_count": 8,
   "metadata": {},
   "outputs": [],
   "source": [
    "for announcement in announcements:\n",
    "    announcement_link = announcement[\"link\"]\n",
    "    r = requests.get(announcement_link)\n",
    "    s = BeautifulSoup(r.text, \"html.parser\")\n",
    "    sections = s.find_all(\"section\")\n",
    "    announcement_content = \"\"\n",
    "    for section in sections:\n",
    "        announcement_content = announcement_content + section.get_text(strip=True, separator=\" \")\n",
    "    announcement[\"content\"] = announcement_content"
   ]
  },
  {
   "cell_type": "code",
   "execution_count": 41,
   "metadata": {},
   "outputs": [
    {
     "name": "stdout",
     "output_type": "stream",
     "text": [
      "235 chunks added to chroma db\n"
     ]
    }
   ],
   "source": [
    "from llama_index.core.node_parser import SentenceSplitter\n",
    "\n",
    "text_parser = SentenceSplitter(\n",
    "    chunk_size=512,\n",
    "    separator=\".\",\n",
    "    chunk_overlap=0\n",
    ")\n",
    "\n",
    "import chromadb\n",
    "import uuid\n",
    "\n",
    "# set up ChromaVectorStore and load in data\n",
    "chroma_client = chromadb.Client()\n",
    "collection = chroma_client.create_collection(\n",
    "    name=\"awsreinvent2023_collection\",\n",
    "    metadata={\"hnsw:space\": \"cosine\"} # l2 is the default\n",
    ")\n",
    "\n",
    "chunk_count = 0\n",
    "for announcement in announcements:\n",
    "    chunks = text_parser.split_text(announcement[\"content\"])\n",
    "    for chunk in chunks:\n",
    "        chunk_count = chunk_count + 1\n",
    "        id = str(uuid.uuid4())\n",
    "        collection.add(\n",
    "            documents=[chunk],\n",
    "            metadatas=[\n",
    "                {\n",
    "                    \"title\": announcement[\"title\"], \n",
    "                    \"summary\": announcement[\"summary\"], \n",
    "                    \"link\": announcement[\"link\"]\n",
    "                }\n",
    "            ],\n",
    "            ids=[id]\n",
    "        )\n",
    "\n",
    "print(f\"{chunk_count} chunks added to chroma db\")"
   ]
  },
  {
   "cell_type": "code",
   "execution_count": 44,
   "metadata": {},
   "outputs": [
    {
     "data": {
      "text/plain": [
       "{'ids': [['a7b56f25-4975-4ab2-a180-4a1a953c4538',\n",
       "   '4fbc5dd9-34fa-4641-a655-de4f6684cb9a',\n",
       "   '0cb8492e-fda7-4158-9666-b005de47986c']],\n",
       " 'distances': [[0.6450698375701904, 0.6631356477737427, 0.6663980484008789]],\n",
       " 'metadatas': [[{'link': 'https://aws.amazon.com/blogs/aws/amazon-detective-adds-investigations-and-finding-group-summaries-to-help-you-investigate-security-findings/',\n",
       "    'summary': 'Amazon Detective adds four new capabilities to help you save time and strengthen your security operations.',\n",
       "    'title': 'Amazon Detective adds new capabilities to accelerate and improve your cloud security investigations'},\n",
       "   {'link': 'https://aws.amazon.com/blogs/aws/introducing-amazon-guardduty-ecs-runtime-monitoring-including-aws-fargate/',\n",
       "    'summary': 'The new capability helps detect potential runtime security issues in Amazon Elastic Container Service (Amazon ECS) clusters running on both AWS Fargate and Amazon Elastic Compute Cloud (Amazon EC2).',\n",
       "    'title': 'Detect runtime security threats in Amazon ECS and AWS Fargate, new in Amazon GuardDuty'},\n",
       "   {'link': 'https://aws.amazon.com/blogs/aws/new-myapplications-in-the-aws-management-console-simplifies-managing-your-application-resources/',\n",
       "    'summary': 'Now, you can more easily manage and monitor the cost, health, security posture, and performance of your applications on AWS from a widget in the AWS Management Console.',\n",
       "    'title': 'New myApplications in the AWS Management Console simplifies managing your application resources'}]],\n",
       " 'embeddings': None,\n",
       " 'documents': [['Reconstructing activity timelines and identifying irregular entitlements can take hours or days, depending on complexity. Limited visibility into legacy systems and incomplete logs further complicates IAM investigations, making it difficult to obtain a definitive understanding of unauthorized access. Detective investigations for IAM triage findings and surface only the most critical, suspicious issues, allowing security analysts to focus on high-level investigations. It automatically analyzes resources in your AWS environment to identify potential indicators of compromise or suspicious activity using machine learning and threat intelligence. This allows analysts to identify patterns and comprehend which resources are impacted by security events, offering a proactive approach to threat identification and mitigation. The investigations are not only available in the console; you can use the new StartInvestigation API to automate a remediation workflow or collect information about all IP involved or AWS resources compromised. You can also use the API to feed the data to other systems to build a consolidated view of your security posture. Finding group summaries evaluates the connections between security events across an environment and provides insights in natural language that link related threats, compromised resources, and malicious actor behavior. This narrative offers security analysts a comprehensive overview of security incidents that goes beyond individual service reports. By grouping and contextualizing data from multiple sources, finding group summaries identifies threats that might go unnoticed when insights are isolated. This approach improve the speed and efficiency of investigations and responses. Security analysts can utilize finding group summaries to gain a holistic understanding of security events and their interrelationships, helping them make informed decisions regarding containment and remediation. Let’s see these two capabilities in action In this demo, I start with Detective investigations for IAM in the Detective section of the console . The Detective dashboard shows me the number of investigations done and the number of IAM roles and users involved in suspicious activities. From there, I drill down the list of investigations. And I select one specific investigation to get the details. There is a summary first. I scroll down the page to see what IP addresses are involved and for what type of activities. This example shows me a physical impossibility: the same IP was used in a short time from two different places, Australia and Japan. The most interesting section of the page, in my opinion, is the mappings to tactics, techniques, and procedures (TTP). All TTPs are classified according to their severity. The console shows the techniques and actions used. When selecting a specific TTP, I can see the details in the right pane.',\n",
       "   'Today, we’re announcing Amazon GuardDuty ECS Runtime Monitoring to help detect potential runtime security issues in Amazon Elastic Container Service (Amazon ECS) clusters running on both AWS Fargate and Amazon Elastic Compute Cloud (Amazon EC2) . GuardDuty combines machine learning (ML), anomaly detection, network monitoring, and malicious file discovery against various AWS data sources. When threats are detected, GuardDuty generates security findings and automatically sends them to AWS Security Hub , Amazon EventBridge , and Amazon Detective . These integrations help centralize monitoring for AWS and partner services, initiate automated responses, and launch security investigations. GuardDuty ECS Runtime Monitoring helps detect runtime events such as file access, process execution, and network connections that might indicate runtime threats. It checks hundreds of threat vectors and indicators and can produce over 30 different finding types. For example, it can detect attempts of privilege escalation, activity generated by crypto miners or malware, or activity suggesting reconnaissance by an attacker. This is in addition to GuardDuty‘s primary detection categories . GuardDuty ECS Runtime Monitoring uses a managed and lightweight security agent that adds visibility into individual container runtime behaviors. When using AWS Fargate, there is no need for you to install, configure, manage, or update the agent. We take care of that for you. This simplifies the management of your clusters and reduces the risk of leaving some tasks without monitoring. It also helps to improve your security posture and pass regulatory compliance and certification for runtime threats. GuardDuty ECS Runtime Monitoring findings are visible directly in the console. You can configure GuardDuty to also send its findings to multiple AWS services or to third-party monitoring systems connected to your security operations center (SOC) . With this launch, Amazon Detective now receives security findings from GuardDuty ECS Runtime Monitoring and includes them in its collection of data for analysis and investigations. Detective helps to analyze, investigate, and quickly identify the root cause of potential security issues or suspicious activities. It collects log data from AWS resources and uses machine learning, statistical analysis, and graph theory to build a linked set of data that enables you to easily conduct security investigations. Configure GuardDuty ECS Runtime Monitoring on AWS Fargate For this demo, I choose to show the experience provided for AWS Fargate. When using Amazon ECS, you must ensure your EC2 instances have the GuardDuty agent installed.',\n",
       "   'The Compute widget summarizes of application compute resources, information about which are in alarm, and trend charts from CloudWatch showing basic metrics such as Amazon EC2 instance CPU utilization and AWS Lambda invocations. You also can assess application operations, look for anomalies, and take action. The Monitoring and Operations widget displays alarms and alerts for resources associated with your application, service level objectives (SLOs), and standardized application performance metrics from CloudWatch Application Signals . You can monitor ongoing issues, assess trends, and quickly identify and drill down on any issues that might impact your application. The Security widget shows the highest priority security findings identified by AWS Security Hub . Findings are listed by severity and service, so you can monitor their security posture and click to take action where needed. The DevOps widget summarizes operational insights from AWS System Manager Application Manager , such as fleet management, state management, patch management, and configuration management status so you can assess compliance and take action. You can also use the Tagging widget to assist you in reviewing and applying tags to your application. Now available You can enjoy this new myApplications capability, a new application-centric experience to easily manage and monitor applications on AWS. myApplications capability is available in the following AWS Regions: US East (Ohio, N. Virginia), US West (N. California, Oregon), South America (São Paulo), Asia Pacific (Hyderabad, Jakarta, Mumbai, Osaka, Seoul, Singapore, Sydney, Tokyo), Europe (Frankfurt, Ireland, London, Paris, Stockholm), Middle East (Bahrain) Regions. AWS Premier Tier Services Partners— Escala24x7 , IBM , Tech Mahindra , and Xebia will support application operations with complementary features and services. Give it a try now in the AWS Management Console and send feedback to AWS re:Post for AWS Management Console , using the feedback link on the myApplications dashboard, or through your usual AWS Support contacts. — Channy']],\n",
       " 'uris': None,\n",
       " 'data': None}"
      ]
     },
     "execution_count": 44,
     "metadata": {},
     "output_type": "execute_result"
    }
   ],
   "source": [
    "results = collection.query(\n",
    "    query_texts=[\"what are the major announcements about security improvements\"],\n",
    "    n_results=3\n",
    ")\n",
    "\n",
    "results"
   ]
  }
 ],
 "metadata": {
  "kernelspec": {
   "display_name": "venv",
   "language": "python",
   "name": "python3"
  },
  "language_info": {
   "codemirror_mode": {
    "name": "ipython",
    "version": 3
   },
   "file_extension": ".py",
   "mimetype": "text/x-python",
   "name": "python",
   "nbconvert_exporter": "python",
   "pygments_lexer": "ipython3",
   "version": "3.10.12"
  }
 },
 "nbformat": 4,
 "nbformat_minor": 2
}
